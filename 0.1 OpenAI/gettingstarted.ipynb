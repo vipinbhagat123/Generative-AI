{
 "cells": [
  {
   "cell_type": "markdown",
   "metadata": {},
   "source": [
    "#### Getting started With Langchain And Open AI\n",
    "\n",
    "\n",
    "In this quickstart we'll see how to:\n",
    "\n",
    "- Get setup with LangChain, LangSmith and LangServe\n",
    "- Use the most basic and common components of LangChain: prompt templates, models, and output parsers.\n",
    "- Build a simple application with LangChain\n",
    "- Trace your application with LangSmith\n",
    "- Serve your application with LangServe\n"
   ]
  },
  {
   "cell_type": "code",
   "execution_count": 1,
   "metadata": {},
   "outputs": [],
   "source": [
    "import os\n",
    "from dotenv import load_dotenv\n",
    "load_dotenv()\n",
    "\n",
    "os.environ['OPENAI_API_KEY']=os.getenv(\"OPENAI_API_KEY\")\n",
    "# Langsmith Tracking\n",
    "\n",
    "os.environ['LANGCHAIN_API_KEY']=os.getenv(\"LANGCHAIN_API_KEY\")\n",
    "os.environ[\"LANGCHAIN_TRACING_V2\"]='true'\n",
    "os.environ['LANGCHAIN_PROJECT']=os.getenv(\"LANGCHAIN_PROJECT\")"
   ]
  },
  {
   "cell_type": "code",
   "execution_count": 3,
   "metadata": {},
   "outputs": [
    {
     "name": "stdout",
     "output_type": "stream",
     "text": [
      "client=<openai.resources.chat.completions.Completions object at 0x00000210AB570310> async_client=<openai.resources.chat.completions.AsyncCompletions object at 0x00000210AB639630> model_name='gpt-4o' openai_api_key=SecretStr('**********') openai_proxy=''\n"
     ]
    }
   ],
   "source": [
    "from langchain_openai import ChatOpenAI\n",
    "llm=ChatOpenAI(model='gpt-4o')\n",
    "print(llm)"
   ]
  },
  {
   "cell_type": "code",
   "execution_count": 4,
   "metadata": {},
   "outputs": [],
   "source": [
    "## Input and get response form LLM\n",
    "\n",
    "result=llm.invoke('What is generative AI?')"
   ]
  },
  {
   "cell_type": "code",
   "execution_count": 5,
   "metadata": {},
   "outputs": [
    {
     "name": "stdout",
     "output_type": "stream",
     "text": [
      "content='Generative AI refers to a class of artificial intelligence algorithms designed to generate new, original content based on the data they have been trained on. This content can be in various forms, including text, images, music, and even code. The most common types of generative AI models include:\\n\\n1. **Generative Adversarial Networks (GANs):** GANs consist of two neural networks, a generator and a discriminator, that are trained together. The generator creates new data instances, while the discriminator evaluates them. The goal is for the generator to produce data that is indistinguishable from real data, effectively \"fooling\" the discriminator.\\n\\n2. **Variational Autoencoders (VAEs):** VAEs are another type of generative model that learns to encode input data into a latent space and then decode it back into the original data format. This process allows the model to generate new data by sampling from the latent space.\\n\\n3. **Transformers:** These models, especially those used in natural language processing (NLP), such as GPT (Generative Pre-trained Transformer), are designed to generate coherent and contextually relevant text. Transformers are particularly effective at understanding and generating sequences, making them well-suited for tasks such as language translation, summarization, and text completion.\\n\\nApplications of generative AI are vast and include:\\n\\n- **Art and Design:** Creating original artwork, design prototypes, and even fashion items.\\n- **Content Creation:** Writing articles, generating marketing copy, composing music, and creating video game environments.\\n- **Healthcare:** Generating synthetic medical data for research, drug discovery, and even personalized treatment plans.\\n- **Entertainment:** Developing video game characters, storylines, and virtual worlds.\\n- **Data Augmentation:** Enhancing training datasets for machine learning models by generating additional data that is representative of the original dataset.\\n\\nGenerative AI has the potential to revolutionize various industries by automating creative tasks, enhancing productivity, and enabling the creation of novel and innovative solutions.' response_metadata={'token_usage': {'completion_tokens': 401, 'prompt_tokens': 13, 'total_tokens': 414}, 'model_name': 'gpt-4o-2024-05-13', 'system_fingerprint': 'fp_3cd8b62c3b', 'finish_reason': 'stop', 'logprobs': None} id='run-5d055950-e54c-4f9c-92ff-b11b0ebdc85f-0' usage_metadata={'input_tokens': 13, 'output_tokens': 401, 'total_tokens': 414}\n"
     ]
    }
   ],
   "source": [
    "print(result)"
   ]
  },
  {
   "cell_type": "code",
   "execution_count": 11,
   "metadata": {},
   "outputs": [
    {
     "data": {
      "text/plain": [
       "ChatPromptTemplate(input_variables=['input'], messages=[SystemMessagePromptTemplate(prompt=PromptTemplate(input_variables=[], template='you are an expert AI Engineer. Provide me answers based on the questions')), HumanMessagePromptTemplate(prompt=PromptTemplate(input_variables=['input'], template='{input}'))])"
      ]
     },
     "execution_count": 11,
     "metadata": {},
     "output_type": "execute_result"
    }
   ],
   "source": [
    "### chatpromt Template\n",
    "\n",
    "from langchain_core.prompts import ChatPromptTemplate\n",
    "prompt=ChatPromptTemplate.from_messages(\n",
    "    [\n",
    "        ('system', 'you are an expert AI Engineer. Provide me answers based on the questions'),\n",
    "        ('user', '{input}')\n",
    "    ]\n",
    ")\n",
    "prompt"
   ]
  },
  {
   "cell_type": "code",
   "execution_count": 12,
   "metadata": {},
   "outputs": [
    {
     "name": "stdout",
     "output_type": "stream",
     "text": [
      "content='As of my last update in October 2023, there is no widely recognized entity, technology, or concept known as \"Langsmith\" in the realm of artificial intelligence, software engineering, or related fields. It\\'s possible that \"Langsmith\" could be a new or emerging technology, company, tool, or even a term specific to a particular niche or industry that hasn\\'t yet gained widespread recognition.\\n\\nIf \"Langsmith\" is a term or entity that has recently emerged or is specific to a particular context, I would need more details to provide accurate information. Could you please provide more context or clarify what you are referring to?' response_metadata={'token_usage': {'completion_tokens': 125, 'prompt_tokens': 33, 'total_tokens': 158}, 'model_name': 'gpt-4o-2024-05-13', 'system_fingerprint': 'fp_3cd8b62c3b', 'finish_reason': 'stop', 'logprobs': None} id='run-c49ed5c9-a66f-4711-bd99-bb1b97666800-0' usage_metadata={'input_tokens': 33, 'output_tokens': 125, 'total_tokens': 158}\n"
     ]
    }
   ],
   "source": [
    "## chain\n",
    "chain=prompt|llm\n",
    "response=chain.invoke({\"input\":\"Can you tell me about Langsmith?\"})\n",
    "print(response)"
   ]
  },
  {
   "cell_type": "code",
   "execution_count": 13,
   "metadata": {},
   "outputs": [
    {
     "data": {
      "text/plain": [
       "langchain_core.messages.ai.AIMessage"
      ]
     },
     "execution_count": 13,
     "metadata": {},
     "output_type": "execute_result"
    }
   ],
   "source": [
    "type(response)"
   ]
  },
  {
   "cell_type": "code",
   "execution_count": 14,
   "metadata": {},
   "outputs": [
    {
     "name": "stdout",
     "output_type": "stream",
     "text": [
      "Certainly! Langsmith is a suite of tools designed to help developers build, assess, and tune applications that utilize language models. It provides a comprehensive environment for the development and optimization of applications that rely on natural language processing (NLP).\n",
      "\n",
      "Here are some key features and components of Langsmith:\n",
      "\n",
      "1. **Development Tools**: Langsmith offers a range of tools to streamline the development process, making it easier to integrate language models into applications. These tools can include SDKs, APIs, and plugins for various programming languages and platforms.\n",
      "\n",
      "2. **Assessment and Evaluation**: It includes functionalities for evaluating the performance of language models. This can involve metrics for accuracy, fluency, coherence, and other linguistic attributes. These assessments help developers understand how well their models are performing in real-world scenarios.\n",
      "\n",
      "3. **Tuning and Optimization**: Langsmith provides tools for fine-tuning and optimizing language models. This can involve adjusting hyperparameters, training on specific datasets, or using techniques like transfer learning to improve model performance.\n",
      "\n",
      "4. **Monitoring and Analytics**: Once deployed, Langsmith can offer monitoring tools to track how the language models are being used and how they are performing in production. This can include usage analytics, error rates, response times, and other relevant metrics.\n",
      "\n",
      "5. **Integration and Deployment**: The suite often includes features to facilitate the integration of language models into existing systems and workflows. This can involve deployment scripts, containerization support, and cloud integration options.\n",
      "\n",
      "6. **Security and Compliance**: Given the sensitivity of data processed by language models, Langsmith likely includes features to ensure data security and compliance with relevant regulations.\n",
      "\n",
      "By providing these tools and features, Langsmith aims to make it easier for developers to create robust, efficient, and high-performing applications that leverage the capabilities of modern language models.\n"
     ]
    }
   ],
   "source": [
    "from langchain_core.output_parsers import StrOutputParser\n",
    "output_parser=StrOutputParser()\n",
    "chain=prompt|llm|output_parser\n",
    "response=chain.invoke({\"input\":\"Can you tell me about Langsmith?\"})\n",
    "print(response)"
   ]
  },
  {
   "cell_type": "code",
   "execution_count": null,
   "metadata": {},
   "outputs": [],
   "source": []
  }
 ],
 "metadata": {
  "kernelspec": {
   "display_name": "Python 3",
   "language": "python",
   "name": "python3"
  },
  "language_info": {
   "codemirror_mode": {
    "name": "ipython",
    "version": 3
   },
   "file_extension": ".py",
   "mimetype": "text/x-python",
   "name": "python",
   "nbconvert_exporter": "python",
   "pygments_lexer": "ipython3",
   "version": "3.10.14"
  }
 },
 "nbformat": 4,
 "nbformat_minor": 2
}
